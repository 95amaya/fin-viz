{
 "cells": [
  {
   "cell_type": "markdown",
   "metadata": {},
   "source": [
    "# Data Analysis Demos"
   ]
  },
  {
   "cell_type": "markdown",
   "metadata": {},
   "source": [
    "## Import Data"
   ]
  },
  {
   "cell_type": "code",
   "execution_count": 2,
   "metadata": {},
   "outputs": [
    {
     "name": "stdout",
     "output_type": "stream",
     "text": [
      "Hello World!\n",
      "/usr/local/bin/python\n"
     ]
    },
    {
     "data": {
      "text/html": [
       "<div>\n",
       "<style scoped>\n",
       "    .dataframe tbody tr th:only-of-type {\n",
       "        vertical-align: middle;\n",
       "    }\n",
       "\n",
       "    .dataframe tbody tr th {\n",
       "        vertical-align: top;\n",
       "    }\n",
       "\n",
       "    .dataframe thead th {\n",
       "        text-align: right;\n",
       "    }\n",
       "</style>\n",
       "<table border=\"1\" class=\"dataframe\">\n",
       "  <thead>\n",
       "    <tr style=\"text-align: right;\">\n",
       "      <th></th>\n",
       "      <th>Transaction Date</th>\n",
       "      <th>Amount</th>\n",
       "      <th>Transaction Type</th>\n",
       "      <th>Account</th>\n",
       "      <th>Description</th>\n",
       "      <th>Label</th>\n",
       "    </tr>\n",
       "  </thead>\n",
       "  <tbody>\n",
       "    <tr>\n",
       "      <th>0</th>\n",
       "      <td>2024-01-01</td>\n",
       "      <td>-132.97</td>\n",
       "      <td>CREDIT</td>\n",
       "      <td>NEEDS</td>\n",
       "      <td>H-E-B #591 ROUND ROCK TX</td>\n",
       "      <td>NaN</td>\n",
       "    </tr>\n",
       "    <tr>\n",
       "      <th>1</th>\n",
       "      <td>2024-01-01</td>\n",
       "      <td>-5.86</td>\n",
       "      <td>CREDIT</td>\n",
       "      <td>NEEDS</td>\n",
       "      <td>H-E-B #034 ROUND ROCK TX</td>\n",
       "      <td>NaN</td>\n",
       "    </tr>\n",
       "    <tr>\n",
       "      <th>2</th>\n",
       "      <td>2024-01-01</td>\n",
       "      <td>-108.04</td>\n",
       "      <td>CREDIT</td>\n",
       "      <td>NEEDS</td>\n",
       "      <td>JONAH WATER SPECIAL UTILI512-759-1286 TX</td>\n",
       "      <td>NaN</td>\n",
       "    </tr>\n",
       "    <tr>\n",
       "      <th>3</th>\n",
       "      <td>2024-01-01</td>\n",
       "      <td>-6.01</td>\n",
       "      <td>CREDIT</td>\n",
       "      <td>WANTS</td>\n",
       "      <td>STARBUCKS 800-782-7282</td>\n",
       "      <td>NaN</td>\n",
       "    </tr>\n",
       "    <tr>\n",
       "      <th>5</th>\n",
       "      <td>2024-01-02</td>\n",
       "      <td>-2426.86</td>\n",
       "      <td>DEBIT</td>\n",
       "      <td>NEEDS</td>\n",
       "      <td>DOVENMUEHLE MTG MORTG PYMT 010124 1465440376 M...</td>\n",
       "      <td>Mortgage Payment</td>\n",
       "    </tr>\n",
       "  </tbody>\n",
       "</table>\n",
       "</div>"
      ],
      "text/plain": [
       "  Transaction Date   Amount Transaction Type Account  \\\n",
       "0       2024-01-01  -132.97           CREDIT   NEEDS   \n",
       "1       2024-01-01    -5.86           CREDIT   NEEDS   \n",
       "2       2024-01-01  -108.04           CREDIT   NEEDS   \n",
       "3       2024-01-01    -6.01           CREDIT   WANTS   \n",
       "5       2024-01-02 -2426.86            DEBIT   NEEDS   \n",
       "\n",
       "                                         Description             Label  \n",
       "0                           H-E-B #591 ROUND ROCK TX               NaN  \n",
       "1                           H-E-B #034 ROUND ROCK TX               NaN  \n",
       "2           JONAH WATER SPECIAL UTILI512-759-1286 TX               NaN  \n",
       "3                             STARBUCKS 800-782-7282               NaN  \n",
       "5  DOVENMUEHLE MTG MORTG PYMT 010124 1465440376 M...  Mortgage Payment  "
      ]
     },
     "execution_count": 2,
     "metadata": {},
     "output_type": "execute_result"
    }
   ],
   "source": [
    "import pandas as pd\n",
    "import sys\n",
    "from decouple import config\n",
    "from report_builder import *\n",
    "\n",
    "print(\"Hello World!\")\n",
    "print(sys.executable)\n",
    "\n",
    "DATA_FILE_PATH = config('DATA_FILE_PATH')\n",
    "report = ReportBuilder(DATA_FILE_PATH, 2024)\n",
    "\n",
    "df = report.main_df\n",
    "df.head()"
   ]
  },
  {
   "cell_type": "markdown",
   "metadata": {},
   "source": [
    "## Data Manipulation Demos"
   ]
  },
  {
   "cell_type": "code",
   "execution_count": null,
   "metadata": {},
   "outputs": [],
   "source": [
    "print('------- Data Frame Info -------')\n",
    "print(df.index)\n",
    "print(df.columns)\n",
    "print(df.ndim)\n",
    "print(df.shape)\n",
    "print(df.size)\n",
    "print(df.size)\n",
    "print('------- Memory Usage ------')\n",
    "print(df.memory_usage())"
   ]
  },
  {
   "cell_type": "code",
   "execution_count": null,
   "metadata": {},
   "outputs": [],
   "source": [
    "grp1 = df.groupby(Col.AccountType.value)\n",
    "print(grp1.size())\n",
    "# grp1.first()\n",
    "# grp1.apply(list)\n",
    "# grp1.groups\n",
    "\n",
    "\n",
    "subgrp1 = grp1.get_group(\"NEEDS\")\n",
    "subgrp1.head()\n"
   ]
  },
  {
   "cell_type": "code",
   "execution_count": null,
   "metadata": {},
   "outputs": [],
   "source": [
    "grp2 = df.groupby([Col.AccountType.value, Col.TransactionType.value])\n",
    "print(grp2.size())\n",
    "grp2.first()\n",
    "\n",
    "# subgrp2 = grp2.get_group(\"NEEDS\")\n",
    "# subgrp2.head()\n",
    "\n"
   ]
  },
  {
   "cell_type": "code",
   "execution_count": null,
   "metadata": {},
   "outputs": [],
   "source": [
    "grp3 = df.groupby([\n",
    "            Col.AccountType.value,\n",
    "            Col.TransactionType.value,\n",
    "            df[Col.TransactionDate.value].dt.month,\n",
    "        ])\n",
    "\n",
    "# print(grp3.size())\n",
    "grp3.first()\n",
    "# grp3.groups"
   ]
  },
  {
   "cell_type": "markdown",
   "metadata": {},
   "source": [
    "## Data Visualization Demo"
   ]
  },
  {
   "cell_type": "code",
   "execution_count": null,
   "metadata": {},
   "outputs": [],
   "source": [
    "import plotly.express as px\n",
    "\n",
    "# hello world figure\n",
    "fig = px.bar(x=[\"a\", \"b\", \"c\"], y=[1, 3, 2])\n",
    "fig.show()"
   ]
  },
  {
   "cell_type": "code",
   "execution_count": null,
   "metadata": {},
   "outputs": [],
   "source": [
    "grp4 = df.groupby([\n",
    "            Col.AccountType.value,\n",
    "            Col.TransactionType.value,\n",
    "        ])\n",
    "\n",
    "grp4_grps = list(grp4.groups)\n",
    "print(grp4_grps)\n",
    "print(grp4_grps[0])\n",
    "print(type(grp4_grps[0]))\n",
    "\n",
    "# grp4.get_group(grp4_grps[0])\n",
    "\n",
    "grp_tuple = ('NEEDS', 'DEBIT')\n",
    "subgrp40 = grp4.get_group(grp_tuple) # issue with group by returning any instead of df type, may need to just filter before grouping\n"
   ]
  },
  {
   "cell_type": "code",
   "execution_count": null,
   "metadata": {},
   "outputs": [],
   "source": [
    "import calendar\n",
    "from datetime import datetime\n",
    "from numpy import dtype\n",
    "\n",
    "from pandas import DataFrame\n",
    "\n",
    "def get_month_name(month_num: int):\n",
    "    return calendar.month_name[month_num]\n",
    "\n",
    "def get_df_grp(dfi: DataFrame, filterByFunc, grpByFunc):\n",
    "    return dfi.loc[filterByFunc].groupby(grpByFunc)[Col.Amount.value]\n",
    "\n",
    "\n",
    "# print(df[Col.CustomTags.value].head())\n",
    "# print(df[Col.CustomTags.value].explode().head())\n",
    "# print(df[Col.CustomTags.value].explode() == 'NOISE')\n",
    "# print(df[Col.CustomTags.value].explode() != 'NOISE')\n",
    "\n",
    "# print(df[Col.TransactionDate.value] >= datetime(2023, 1, 1))\n",
    "\n",
    "qry5 = (df[Col.CustomTags.value].explode() != 'NOISE')\\\n",
    "        & (df[Col.TransactionDate.value] >= datetime(2023, 1, 1))\\\n",
    "        & (df[Col.TransactionDate.value] < datetime(2023, 10, 1))\\\n",
    "        & (df[Col.TransactionType.value] == 'DEBIT')\n",
    "        # & (df[Col.AccountType.value] == 'NEEDS')\\\n",
    "        \n",
    "\n",
    "filterGrp5 = df.loc[qry5]\n",
    "\n",
    "# print(filterGrp5[Col.CustomTags.value].explode().unique()) \n",
    "# filterGrp5\n",
    "\n",
    "\n",
    "xVals = filterGrp5[Col.TransactionDate.value].dt.month.unique() \n",
    "# print(xVals)\n",
    "debit_per_month_group = pd.DataFrame(list(map(get_month_name, xVals)))\n",
    "debit_per_month_group[1] = filterGrp5.loc[(df[Col.Amount.value] > 0)]\\\n",
    "                            .groupby(filterGrp5[Col.TransactionDate.value].dt.month)[Col.Amount.value]\\\n",
    "                            .sum()\\\n",
    "                            .values\n",
    "\n",
    "debit_per_month_group[2] = filterGrp5.loc[(df[Col.Amount.value] < 0)]\\\n",
    "                            .groupby(filterGrp5[Col.TransactionDate.value].dt.month)[Col.Amount.value]\\\n",
    "                            .apply(lambda val: val.abs().sum())\\\n",
    "                            .values\n",
    "\n",
    "\n",
    "debit_per_month_group.columns = [\"Month\", \"Income\", \"Spent\"]\n",
    "debit_per_month_group\n",
    "\n",
    "# Ideal Plot\n",
    "# Month Name, Amount > 0, Amount < 0, Surplus / Deficit\n",
    "fig = px.bar(debit_per_month_group, x=\"Month\", y=debit_per_month_group.columns[1:], barmode='group')\n",
    "fig.show()\n",
    "\n",
    "# use Subplots of pie charts https://plotly.com/python/subplots/\n",
    "# in order to show top spending per area per month (i.e. Top 3 Credited items as % of month)\n",
    "# use plotly filter to filter those months\n",
    "\n",
    "# use cards in streamlit to show KPIs (i.e. YTD Sum, Montly Avg, Quarterly Trend, Savings Rate)"
   ]
  },
  {
   "cell_type": "markdown",
   "metadata": {},
   "source": [
    "## Fuzzy Match Demo"
   ]
  },
  {
   "cell_type": "code",
   "execution_count": 35,
   "metadata": {},
   "outputs": [
    {
     "name": "stdout",
     "output_type": "stream",
     "text": [
      "MONARCH BEHAVIOR PAYROLL 0YG37 A4CH0PNC1 AMAYA, STEPHANIE\n",
      "{'Label': 'Mortgage Payment', 'Description': 'DOVENMUEHLE MTG MORTG PYMT 020124 1465440376 Michael Amaya', 'FuzzRatio': 31.304347826086953}\n",
      "{'Label': \"Stephanie's Income\", 'Description': 'MONARCH BEHAVIOR PAYROLL 0YG37 A4CH0PNC1 AMAYA, STEPHANIE', 'FuzzRatio': 100.0}\n",
      "{'Label': \"Michael's Income\", 'Description': 'Bullhorn Inc-OSV 0000461050 240215 10OSV0064l Michael Amaya', 'FuzzRatio': 22.413793103448278}\n",
      "{'Label': 'Credit Card Payment', 'Description': 'CHASE CREDIT CRD EPAY 240227 7337682519 MICHAEL AMAYA', 'FuzzRatio': 41.81818181818182}\n",
      "{'Label': \"Stephanie's Income\", 'MaxFuzzRatio': 100.0}\n"
     ]
    }
   ],
   "source": [
    "# Demo Matching Similar Charges from previous month, so that labels can be carried over automatically\n",
    "from rapidfuzz import fuzz\n",
    "\n",
    "# fuzz.ratio(\"this is a test\", \"this is a test!\")\n",
    "\n",
    "curr_month_index = 3\n",
    "df_curr_month = df.loc[(df[Col.TransactionDate.value] >= datetime(2024, curr_month_index, 1)) & (df[Col.TransactionDate.value] < datetime(2024, curr_month_index + 1, 1))]\n",
    "df_prev_month = df.loc[(df[Col.TransactionDate.value] >= datetime(2024, curr_month_index - 1, 1)) & (df[Col.TransactionDate.value] < datetime(2024, curr_month_index, 1)) & (df[Col.Label.value])]\n",
    "\n",
    "# df_curr_month.head()\n",
    "first_val = df_curr_month.iloc[1][Col.Description.value]\n",
    "\n",
    "# df_prev_month\n",
    "df_prev_month = df_prev_month.drop_duplicates(subset=[Col.Label.value])\n",
    "# df_prev_month\n",
    "df_prev_month_labels = df_prev_month[[Col.Label.value, Col.Description.value]].to_dict('records')\n",
    "\n",
    "print(first_val)\n",
    "\n",
    "fuzz_ratio_obj = { Col.Label.value: '',\n",
    "                  'MaxFuzzRatio': 0 }\n",
    "for row in df_prev_month_labels:\n",
    "    fuzz_ratio = fuzz.ratio(first_val, row[Col.Description.value])\n",
    "    row['FuzzRatio'] = fuzz_ratio\n",
    "    print(row)\n",
    "    if(fuzz_ratio > fuzz_ratio_obj['MaxFuzzRatio']):\n",
    "        fuzz_ratio_obj = { Col.Label.value: row[Col.Label.value],\n",
    "                           'MaxFuzzRatio': fuzz_ratio }\n",
    "\n",
    "print(fuzz_ratio_obj)\n",
    "\n",
    "# df_prev_month_labels\n",
    "\n",
    "\n",
    "# df_fuzz_ratio = df_curr_month[Col.Description.value].apply(lambda val: '')\n",
    "# df_fuzz_ratio\n",
    "# df_curr_month.insert(6, 'FuzzRatio', ] = \n",
    "# df_curr_month\n",
    "\n",
    "\n",
    "\n",
    "\n",
    "\n"
   ]
  }
 ],
 "metadata": {
  "kernelspec": {
   "display_name": "Python 3",
   "language": "python",
   "name": "python3"
  },
  "language_info": {
   "codemirror_mode": {
    "name": "ipython",
    "version": 3
   },
   "file_extension": ".py",
   "mimetype": "text/x-python",
   "name": "python",
   "nbconvert_exporter": "python",
   "pygments_lexer": "ipython3",
   "version": "3.11.6"
  }
 },
 "nbformat": 4,
 "nbformat_minor": 2
}
